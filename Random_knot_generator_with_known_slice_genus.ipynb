{
 "cells": [
  {
   "cell_type": "code",
   "execution_count": 1,
   "metadata": {
    "collapsed": true,
    "id": "kbDqpvqbRzN_"
   },
   "outputs": [],
   "source": [
    "import numpy as np\n",
    "import pandas as pd"
   ]
  },
  {
   "cell_type": "code",
   "execution_count": 2,
   "metadata": {
    "collapsed": true,
    "id": "p2rkAJdRRzOG"
   },
   "outputs": [],
   "source": [
    "def random_band(index,start,end,band_sign=0,conjugate_length_st_dev=0.8,sgr_st_dev=0.6):\n",
    "    if start>end:\n",
    "        temp=start\n",
    "        start=end\n",
    "        end=temp\n",
    "    if band_sign==0:\n",
    "        band_sign=np.random.choice([-1,1])\n",
    "    center=np.random.randint(1,index)\n",
    "    if start==center:\n",
    "        left_crossings=[]\n",
    "    elif start==center+1:\n",
    "        left_crossings=[center]\n",
    "    elif start<center:\n",
    "        left_crossings=[jjj for jjj in range(start,center,1)]\n",
    "    elif start>center+1:\n",
    "        left_crossings=[jjj for jjj in range(start-1,center-1,-1)]\n",
    "    if end==center+1:\n",
    "        right_crossings=[]\n",
    "    elif end==center:\n",
    "        right_crossings=[center]\n",
    "    elif end<center:\n",
    "        right_crossings=[jjj for jjj in range(end,center+1,1)]\n",
    "    elif end>center+1:\n",
    "        right_crossings=[jjj for jjj in range(end-1,center,-1)]\n",
    "    band=[]\n",
    "    start_strand=start\n",
    "    end_strand=end\n",
    "    #print(\"left crossings: \",left_crossings)\n",
    "    #print(\"right crossings: \",right_crossings)\n",
    "    #print(\"center: \",center)\n",
    "    if center>=end:\n",
    "        end_direction=1\n",
    "    else:\n",
    "        end_direction=-1\n",
    "    if center<start:\n",
    "        start_direction=-1\n",
    "    else:\n",
    "        start_direction=1\n",
    "    while len(left_crossings)+len(right_crossings)>0:\n",
    "        #print(\"start strand: \",start_strand)\n",
    "        #print(\"end strand: \",end_strand)\n",
    "        #print(\"left crossings: \",left_crossings)\n",
    "        #print(\"right crossings: \",right_crossings)\n",
    "        #print(\"band: \",band)\n",
    "        if start_strand+1==end_strand:\n",
    "            if center>=end_strand:\n",
    "                band.append(np.random.choice([-1,1])*right_crossings.pop(0))\n",
    "                end_strand=end_strand+end_direction\n",
    "            elif center<start_strand:\n",
    "                band.append(np.random.choice([-1,1])*left_crossings.pop(0))\n",
    "                start_strand=start_strand+start_direction\n",
    "        else:\n",
    "            coin=np.random.randint(0,2)\n",
    "            if coin:\n",
    "                if len(left_crossings)>0:\n",
    "                    band.append(np.random.choice([-1,1])*left_crossings.pop(0))\n",
    "                    start_strand=start_strand+start_direction\n",
    "                else:\n",
    "                    band.append(np.random.choice([-1,1])*right_crossings.pop(0))\n",
    "                    end_strand=end_strand+end_direction\n",
    "            else:\n",
    "                if len(right_crossings)>0:\n",
    "                    band.append(np.random.choice([-1,1])*right_crossings.pop(0))\n",
    "                    end_strand=end_strand+end_direction\n",
    "                else:\n",
    "                    band.append(np.random.choice([-1,1])*left_crossings.pop(0))\n",
    "                    start_strand=start_strand+start_direction\n",
    "    sgr_count=int(np.floor(np.abs(np.random.normal(0,sgr_st_dev))))\n",
    "    #print(sgr_count)\n",
    "    possible_crossings=[jjj for jjj in range(1,index)]+[-jjj for jjj in range(1,index)]\n",
    "    for iii in range(sgr_count):\n",
    "        sign=np.random.choice([-1,1])\n",
    "        location=np.random.randint(0,len(band)+2)\n",
    "        crossing=np.random.choice([jjj for jjj in range(1,index)]+[-jjj for jjj in range(1,index)])\n",
    "        conjugate_length=int(np.floor(np.abs(np.random.normal(0,conjugate_length_st_dev))))\n",
    "        conjugator=list(np.random.choice(possible_crossings,conjugate_length))\n",
    "        inverse_conjugator=[-jjj for jjj in conjugator]\n",
    "        inverse_conjugator.reverse()\n",
    "        relator=conjugator+[sign*crossing,sign*crossing]+inverse_conjugator\n",
    "        #print(relator)\n",
    "        band[location:location]=relator\n",
    "    inverse_band=[-jjj for jjj in band]\n",
    "    inverse_band.reverse()\n",
    "    full_band=band+[band_sign*center]+inverse_band\n",
    "    #print(\"length of full band = \",len(full_band))\n",
    "    return full_band"
   ]
  },
  {
   "cell_type": "code",
   "execution_count": 3,
   "metadata": {
    "collapsed": true,
    "id": "PXFAShaJRzOJ"
   },
   "outputs": [],
   "source": [
    "def insert_strand(braid,index,location,sign):\n",
    "    if location>index+1 or location<1:\n",
    "      print('Location of inserted strand out of range.')\n",
    "      return\n",
    "    for jjj in range(len(braid)):\n",
    "        if braid[jjj]>=np.abs(location):\n",
    "            braid[jjj]=braid[jjj]+1\n",
    "        if -braid[jjj]>=np.abs(location):\n",
    "            braid[jjj]=braid[jjj]-1\n",
    "    iii=0\n",
    "    while iii<len(braid):\n",
    "        if np.abs(braid[iii])==np.abs(location)-1:\n",
    "            braid.insert(iii,sign*location)\n",
    "            braid.insert(iii+2,-sign*location)\n",
    "            iii=iii+3\n",
    "        else:\n",
    "            iii=iii+1\n",
    "    return braid"
   ]
  },
  {
   "cell_type": "code",
   "execution_count": 4,
   "metadata": {
    "collapsed": true,
    "id": "TrmkBIJJRzOK"
   },
   "outputs": [],
   "source": [
    "def permutation_test(braid,index,stopping_index=-1):\n",
    "    if stopping_index==-1:\n",
    "        stopping_index=len(braid)\n",
    "    permutation=[jjj+1 for jjj in range(index)]\n",
    "    for jjj in range(stopping_index):\n",
    "        crossing=np.abs(braid[jjj])\n",
    "        temp=permutation[crossing-1]\n",
    "        permutation[crossing-1]=permutation[crossing]\n",
    "        permutation[crossing]=temp\n",
    "    return permutation"
   ]
  },
  {
   "cell_type": "code",
   "execution_count": 5,
   "metadata": {
    "collapsed": true,
    "id": "NpesZi9kRzOL"
   },
   "outputs": [],
   "source": [
    "def permutation_cycle_test(braid,index,stopping_index=-1):\n",
    "    not_visited=[jjj for jjj in range(1,index+1)]\n",
    "    visited=[]\n",
    "    permutation_cycle=[]\n",
    "    permutation_list=permutation_test(braid,index,stopping_index)\n",
    "    while len(not_visited)>0:\n",
    "        starting_strand=not_visited[0]\n",
    "        jjj=starting_strand\n",
    "        permutation_sub_cycle=[jjj]\n",
    "        next_strand=permutation_list.index(jjj)+1\n",
    "        visited.append(jjj)\n",
    "        not_visited.remove(jjj)\n",
    "        while next_strand!=starting_strand:\n",
    "            jjj=next_strand\n",
    "            next_strand=permutation_list.index(jjj)+1\n",
    "            permutation_sub_cycle.append(jjj)\n",
    "            visited.append(jjj)\n",
    "            not_visited.remove(jjj)\n",
    "        permutation_cycle.append(permutation_sub_cycle)\n",
    "    return permutation_cycle  "
   ]
  },
  {
   "cell_type": "code",
   "execution_count": 6,
   "metadata": {
    "collapsed": true,
    "id": "Sd6jHse5RzOL"
   },
   "outputs": [],
   "source": [
    "def permutation_cycle_from_transpositions(transposition_list,index):\n",
    "    permutation_braid=[]\n",
    "    for jjj in range(len(transposition_list)):\n",
    "        transposition_list[jjj].sort()\n",
    "        transposition=transposition_list[jjj]\n",
    "        band=[jjj for jjj in range(transposition[0],transposition[1])]+[-jjj for jjj in range(transposition[1]-2,transposition[0]-1,-1)]\n",
    "        #print(band)\n",
    "        permutation_braid=permutation_braid+band\n",
    "    #return permutation_braid\n",
    "    return permutation_cycle_test(permutation_braid,index)"
   ]
  },
  {
   "cell_type": "code",
   "execution_count": 7,
   "metadata": {
    "collapsed": true,
    "id": "UZ2f9NahRzOM"
   },
   "outputs": [],
   "source": [
    "def insert_random_band(braid,index,start,end,band_sign,conjugate_length_st_dev=0.8,sgr_st_dev=0.6):\n",
    "    if start>end:\n",
    "        temp=start\n",
    "        start=end\n",
    "        end=temp\n",
    "    position=np.random.choice([jjj for jjj in range(len(braid)+1)])\n",
    "    permutation=permutation_test(braid,index,position)\n",
    "    new_start=permutation.index(start)+1\n",
    "    new_end=permutation.index(end)+1\n",
    "    band=random_band(index,new_start,new_end,band_sign,conjugate_length_st_dev,sgr_st_dev)\n",
    "    braid[position:position]=band\n",
    "    return braid"
   ]
  },
  {
   "cell_type": "code",
   "execution_count": 8,
   "metadata": {
    "collapsed": true,
    "id": "0o6GLoQcRzOM"
   },
   "outputs": [],
   "source": [
    "def band_permutation_connectivity(index,band_count):\n",
    "    if (index-1)%2!=band_count%2:\n",
    "        band_count=band_count+1\n",
    "    band_connection_list=[]\n",
    "    position=index\n",
    "    split_bands=(band_count-(index-1))//2\n",
    "    merge_bands=band_count-split_bands\n",
    "    for jjj in range(band_count):\n",
    "        if position==index or split_bands==0:\n",
    "            band_connection_list.append(-1)\n",
    "            position=position-1\n",
    "            merge_bands=merge_bands-1\n",
    "        elif position==1 or merge_bands==0:\n",
    "            band_connection_list.append(1)\n",
    "            position=position+1\n",
    "            split_bands=split_bands-1\n",
    "        elif np.random.choice([0,1])==0:\n",
    "            band_connection_list.append(1)\n",
    "            position=position+1\n",
    "            split_bands=split_bands-1\n",
    "        else:\n",
    "            band_connection_list.append(-1)\n",
    "            position=position-1\n",
    "            merge_bands=merge_bands-1\n",
    "    return band_connection_list"
   ]
  },
  {
   "cell_type": "code",
   "execution_count": 9,
   "metadata": {
    "collapsed": true,
    "id": "dAr2Es8hUu6p"
   },
   "outputs": [],
   "source": [
    "def simplify_R2(braid,starting_position=0,all=False):\n",
    "  new_braid=braid.copy()\n",
    "  old_braid=[]\n",
    "  position=starting_position\n",
    "  while new_braid!=old_braid:\n",
    "    old_braid=new_braid.copy()\n",
    "    jjj=0\n",
    "    while jjj<len(new_braid):\n",
    "      if new_braid[(position+jjj)%len(new_braid)]==-new_braid[(position+jjj+1)%len(new_braid)]:\n",
    "        smaller_index=min((position+jjj)%len(new_braid),(position+jjj+1)%len(new_braid))\n",
    "        larger_index=max((position+jjj)%len(new_braid),(position+jjj+1)%len(new_braid))\n",
    "        new_braid.pop(larger_index)\n",
    "        new_braid.pop(smaller_index)\n",
    "        if not all:\n",
    "          return new_braid\n",
    "      jjj=jjj+1\n",
    "  return new_braid"
   ]
  },
  {
   "cell_type": "code",
   "execution_count": 10,
   "metadata": {
    "collapsed": true,
    "id": "naYL9rkyYZFk"
   },
   "outputs": [],
   "source": [
    "def add_random_R2(braid,index):\n",
    "  new_braid=braid.copy()\n",
    "  location=np.random.choice(len(braid)+2)\n",
    "  crossing=np.random.choice([jjj for jjj in range(1,index+1)])\n",
    "  sign=np.random.choice([-1,1])\n",
    "  if location==len(braid)+1:\n",
    "    new_braid[index:index]=[sign*crossing]\n",
    "    new_braid[0:0]=[-sign*crossing]\n",
    "  else:\n",
    "    new_braid[location:location]=[sign*crossing,-sign*crossing]\n",
    "  return new_braid"
   ]
  },
  {
   "cell_type": "code",
   "execution_count": 11,
   "metadata": {
    "collapsed": true,
    "id": "1KY5zD4Na6n1"
   },
   "outputs": [],
   "source": [
    "def random_cut(braid):\n",
    "  new_braid=braid.copy()\n",
    "  location=np.random.choice(len(braid))\n",
    "  new_braid=new_braid[location:]+new_braid[:location]\n",
    "  return new_braid"
   ]
  },
  {
   "cell_type": "code",
   "execution_count": 12,
   "metadata": {
    "collapsed": true,
    "id": "pEjqrTvhhR-Q"
   },
   "outputs": [],
   "source": [
    "def apply_R3(braid,starting_position=0):\n",
    "  new_braid=braid.copy()\n",
    "  position=starting_position\n",
    "  for iii in range(len(braid)):\n",
    "    loc1=(iii+position)%len(new_braid)\n",
    "    loc2=(iii+position+1)%len(new_braid)\n",
    "    loc3=(iii+position+2)%len(new_braid)\n",
    "    if new_braid[loc1]==new_braid[loc3] and np.abs(new_braid[loc1]-new_braid[loc2])==1:\n",
    "      letter1=new_braid[loc1]\n",
    "      letter2=new_braid[loc2]\n",
    "      new_braid[loc1]=letter2\n",
    "      new_braid[loc3]=letter2\n",
    "      new_braid[loc2]=letter1\n",
    "    elif new_braid[loc1]==-new_braid[loc3] and np.abs(np.abs(new_braid[loc1])-np.abs(new_braid[loc2]))==1:\n",
    "      letter1=new_braid[loc1]\n",
    "      letter2=new_braid[loc2]\n",
    "      letter3=new_braid[loc3]\n",
    "      sign=np.sign(letter1)*np.sign(letter2)\n",
    "      new_braid[loc1]=np.abs(letter2)*np.sign(letter3)\n",
    "      new_braid[loc2]=sign*letter1\n",
    "      new_braid[loc3]=sign*letter2\n",
    "  return new_braid"
   ]
  },
  {
   "cell_type": "code",
   "execution_count": 13,
   "metadata": {
    "collapsed": true
   },
   "outputs": [],
   "source": [
    "def braid_word_to_string(braid,index):\n",
    "  capitals=\"ABCDEFGHIJKLMNOPQRSTUVWXYZ\"\n",
    "  lowercases=\"abcdefghijklmnopqrstuvwxyz\"\n",
    "  let={}\n",
    "  for jjj in range(index):\n",
    "    let[1+jjj]=capitals[jjj]\n",
    "    let[-1-jjj]=lowercases[jjj]\n",
    "  L=[let[jjj] for jjj in braid]\n",
    "  braid_string=\"\"\n",
    "  for jjj in L:\n",
    "    braid_string=braid_string+jjj\n",
    "  return braid_string"
   ]
  },
  {
   "cell_type": "code",
   "execution_count": 14,
   "metadata": {
    "collapsed": true,
    "id": "yEV0vQUuRzOM"
   },
   "outputs": [],
   "source": [
    "def random_braid(seed_braid=[],seed_slice_genus=0,max_index=5,initial_bands_std_dev=1.5,markov_bands_std_dev=1.5,conjugate_length_st_dev=0.8,sgr_st_dev=0.6,max_starting_bands=6,max_markov_bands=2,seed_sign=0,slice_knot=False):\n",
    "    if len(seed_braid)==0:\n",
    "      seed_slice_genus=0\n",
    "    if seed_sign==0:\n",
    "      seed_sign=np.random.choice([-1,1])\n",
    "    braid=seed_braid.copy()\n",
    "    slice_genus_lower_bound=seed_slice_genus\n",
    "    slice_genus_upper_bound=seed_slice_genus\n",
    "    index=np.random.choice([jjj for jjj in range(2,max_index+1)])\n",
    "    sign_seed=np.random.choice([-1,1])\n",
    "    #print(\"index = \",index)\n",
    "    ###initial_bands=np.random.choice([jjj for jjj in range(index-1,index-1+max_starting_bands+1)])\n",
    "    initial_bands=int(np.floor(np.abs(np.random.normal(0,initial_bands_std_dev))))+index-1\n",
    "    ###markov_positive_bands=np.random.choice([jjj for jjj in range(max_markov_bands+1)])\n",
    "    ###markov_negative_bands=np.random.choice([jjj for jjj in range(max_markov_bands+1-markov_positive_bands)])\n",
    "    markov_positive_bands=int(np.floor(np.abs(np.random.normal(0,markov_bands_std_dev))))\n",
    "    markov_negative_bands=int(np.floor(np.abs(np.random.normal(0,markov_bands_std_dev))))\n",
    "    if initial_bands-index+1<=0:\n",
    "      cobordism_band_count=0\n",
    "    else:\n",
    "      cobordism_band_count=np.random.choice(initial_bands-index+1)\n",
    "    cobordism_positive_bands=np.random.choice([jjj for jjj in range(cobordism_band_count+1)])\n",
    "    cobordism_negative_bands=np.random.choice([jjj for jjj in range(cobordism_band_count+1-cobordism_positive_bands)])\n",
    "    if (initial_bands+cobordism_positive_bands+cobordism_negative_bands)%2!=(index-1)%2:\n",
    "      #band_choice=np.random.choice([0,1,2])\n",
    "      band_choice=0\n",
    "      if band_choice==0:\n",
    "        initial_bands=initial_bands+1\n",
    "      if band_choice==1:\n",
    "        cobordism_positive_bands=cobordism_positive_bands+1\n",
    "      if band_choice==2:\n",
    "        cobordism_negative_bands=cobordism_negative_bands+1 \n",
    "    if slice_knot:\n",
    "        cobordism_positive_bands=0\n",
    "        cobordism_negative_bands=0\n",
    "        initial_bands=index-1\n",
    "    #print(\"initial bands = \",initial_bands) \n",
    "    #print(\"markov bands = \",markov_negative_bands+markov_positive_bands)\n",
    "    #print(\"cobordism bands = \",cobordism_negative_bands+cobordism_positive_bands)\n",
    "    total_bands=initial_bands+markov_positive_bands+markov_negative_bands+cobordism_positive_bands+cobordism_negative_bands\n",
    "    band_connectivity_list=band_permutation_connectivity(index,initial_bands+cobordism_positive_bands+cobordism_negative_bands)\n",
    "    total_band_connectivity_list=band_connectivity_list.copy()\n",
    "    permutation=permutation_cycle_test(braid,index)\n",
    "    cycle_count=index\n",
    "    #print(\"initial permutation: \",permutation_cycle_test(braid,index))\n",
    "    for jjj in range(initial_bands):\n",
    "      if band_connectivity_list[jjj]==-1:\n",
    "        m,n=np.random.choice(len(permutation),2,replace=False)\n",
    "        start_strand=np.random.choice(permutation[m])\n",
    "        end_strand=np.random.choice(permutation[n])\n",
    "        braid=insert_random_band(braid,index,start_strand,end_strand,seed_sign,conjugate_length_st_dev,sgr_st_dev)\n",
    "        #print(\"merge two components (initial band): \",permutation_cycle_test(braid,index))\n",
    "      if band_connectivity_list[jjj]==1:\n",
    "        long_cycles=permutation.copy()\n",
    "        for jjj in permutation:\n",
    "          if len(jjj)<2:\n",
    "            long_cycles.remove(jjj)\n",
    "        n=np.random.choice(len(long_cycles))\n",
    "        start_strand,end_strand=np.random.choice(long_cycles[n],2,replace=False)\n",
    "        braid=insert_random_band(braid,index,start_strand,end_strand,seed_sign,conjugate_length_st_dev,sgr_st_dev)\n",
    "        #print(\"split a component (initial band): \",permutation_cycle_test(braid,index))\n",
    "      permutation=permutation_cycle_test(braid,index)\n",
    "    band_connectivity_list=band_connectivity_list[initial_bands:]\n",
    "    markov_positions=np.sort(np.random.choice([jjj for jjj in range(1,index+1+markov_positive_bands+markov_negative_bands)],markov_positive_bands+markov_negative_bands,replace=False))\n",
    "    #print(\"markov positions: \",markov_positions)\n",
    "    for jjj in markov_positions:\n",
    "      braid=insert_strand(braid,index,jjj,np.random.choice([-1,1]))\n",
    "      index=index+1\n",
    "    #print(\"after inserting new strands: \",permutation_cycle_test(braid,index))\n",
    "    np.random.shuffle(markov_positions)\n",
    "    markov_signs=[1 for jjj in range(markov_positive_bands)]+[-1 for jjj in range(markov_negative_bands)]\n",
    "    np.random.shuffle(markov_signs)\n",
    "    for jjj in range(len(markov_positions)):\n",
    "      #print(\"Markov strand: \",markov_positions[jjj])\n",
    "      permutation=permutation_cycle_test(braid,index)\n",
    "      possible_end_components=[]\n",
    "      for iii in permutation:\n",
    "        if markov_positions[jjj] not in iii:\n",
    "          possible_end_components.append(iii)\n",
    "      #print(\"possible end components: \",possible_end_components)\n",
    "      #possible_end_strands=np.random.choice(np.random.choice(possible_end_components))\n",
    "      #possible_end_strands.remove(markov_positions[jjj])\n",
    "      m=np.random.choice(len(possible_end_components))\n",
    "      end_component=possible_end_components[m]\n",
    "      #print(\"end component: \",end_component)\n",
    "      end_strand=np.random.choice(end_component)\n",
    "      #print(\"end strand: \",end_strand)\n",
    "      braid=insert_random_band(braid,index,markov_positions[jjj],end_strand,markov_signs[jjj],conjugate_length_st_dev,sgr_st_dev)\n",
    "      #print(\"kept number of components constant (markov band between \",end_strand,markov_positions[jjj],\"): \",permutation_cycle_test(braid,index))\n",
    "    cobordism_bands=cobordism_negative_bands+cobordism_positive_bands\n",
    "    cobordism_signs=[1 for jjj in range(cobordism_positive_bands)]+[-1 for jjj in range(cobordism_negative_bands)]\n",
    "    np.random.shuffle(cobordism_signs)\n",
    "    permutation=permutation_cycle_test(braid,index)\n",
    "    for jjj in range(cobordism_bands):\n",
    "      if band_connectivity_list[jjj]==-1:\n",
    "        m,n=np.random.choice(len(permutation),2,replace=False)\n",
    "        start_strand=np.random.choice(permutation[m])\n",
    "        end_strand=np.random.choice(permutation[n])\n",
    "        braid=insert_random_band(braid,index,start_strand,end_strand,cobordism_signs[jjj],conjugate_length_st_dev,sgr_st_dev)\n",
    "        #print(\"merge two components (cobordism band): \",permutation_cycle_test(braid,index))\n",
    "      if band_connectivity_list[jjj]==1:\n",
    "        long_cycles=permutation.copy()\n",
    "        for iii in permutation:\n",
    "          if len(iii)<2:\n",
    "            long_cycles.remove(iii)\n",
    "        n=np.random.choice(len(long_cycles))\n",
    "        start_strand,end_strand=np.random.choice(long_cycles[n],2,replace=False)\n",
    "        braid=insert_random_band(braid,index,start_strand,end_strand,cobordism_signs[jjj],conjugate_length_st_dev,sgr_st_dev)\n",
    "      permutation=permutation_cycle_test(braid,index)\n",
    "      #print(\"split a component (cobordism band): \",permutation_cycle_test(braid,index))\n",
    "    #print(total_band_connectivity_list)\n",
    "    #print(len(braid))\n",
    "    for lll in range(5):\n",
    "        k=np.random.choice(len(braid))\n",
    "        braid=apply_R3(braid,k)\n",
    "    braid=simplify_R2(braid,all=True)\n",
    "    for lll in range(5):\n",
    "        k=np.random.choice(len(braid))\n",
    "        braid=apply_R3(braid,k)\n",
    "    braid=simplify_R2(braid,all=True)\n",
    "    braid=random_cut(braid)\n",
    "    #print(len(braid))\n",
    "    braid_string=braid_word_to_string(braid,index)\n",
    "    return braid,braid_string,index,index-initial_bands-markov_negative_bands-markov_positive_bands-cobordism_negative_bands-cobordism_positive_bands,min(1,index-initial_bands-markov_negative_bands-markov_positive_bands+cobordism_negative_bands+cobordism_positive_bands)"
   ]
  },
  {
   "cell_type": "code",
   "execution_count": 15,
   "metadata": {
    "collapsed": true,
    "id": "Qh24fJ05TbFo"
   },
   "outputs": [],
   "source": [
    "column_names=[\"Braid word\",\"Braid string\",\"Braid index\",\"Euler characteristic lower bound\",\"Euler characteristic upper bound\"]\n",
    "non_slice_knots=pd.DataFrame(columns=column_names)\n",
    "slice_knots=pd.DataFrame(columns=column_names)"
   ]
  },
  {
   "cell_type": "code",
   "execution_count": 16,
   "metadata": {
    "colab": {
     "base_uri": "https://localhost:8080/",
     "height": 334
    },
    "collapsed": false,
    "id": "wUWuMVTgUDWT",
    "outputId": "d609e394-96d1-4d7c-e608-3cea62a5e478",
    "scrolled": true
   },
   "outputs": [
    {
     "name": "stdout",
     "output_type": "stream",
     "text": [
      "0\n",
      "10000\n",
      "20000\n",
      "20000\n",
      "30000\n",
      "40000\n",
      "50000\n",
      "60000\n",
      "70000\n",
      "70000\n",
      "70000\n",
      "70000\n",
      "70000\n",
      "70000\n",
      "70000\n",
      "70000\n",
      "80000\n",
      "80000\n",
      "80000\n",
      "80000\n",
      "90000\n",
      "100000\n"
     ]
    }
   ],
   "source": [
    "while len(non_slice_knots)<100000:\n",
    "  braid=random_braid()\n",
    "  if braid[-1]<1:\n",
    "    non_slice_knots.loc[len(non_slice_knots)]=braid\n",
    "  if len(non_slice_knots)%10000==0:\n",
    "    print(len(non_slice_knots))\n",
    "        \n",
    "non_slice_knots.to_csv(\"nonslice.csv\",index=False)"
   ]
  },
  {
   "cell_type": "code",
   "execution_count": 17,
   "metadata": {
    "collapsed": false,
    "scrolled": true
   },
   "outputs": [
    {
     "name": "stdout",
     "output_type": "stream",
     "text": [
      "10000\n",
      "20000\n",
      "30000\n",
      "40000\n",
      "50000\n",
      "60000\n",
      "70000\n",
      "80000\n",
      "90000\n",
      "100000\n"
     ]
    }
   ],
   "source": [
    "while len(slice_knots)<100000:\n",
    "    braid=random_braid(slice_knot=True,conjugate_length_st_dev=1.35,sgr_st_dev=1)\n",
    "    slice_knots.loc[len(slice_knots)]=braid\n",
    "    if len(slice_knots)%10000==0:\n",
    "        print(len(slice_knots))\n",
    "        \n",
    "slice_knots.to_csv(\"slice.csv\",index=False)"
   ]
  },
  {
   "cell_type": "code",
   "execution_count": 66,
   "metadata": {
    "collapsed": false
   },
   "outputs": [
    {
     "data": {
      "text/plain": [
       "33.2591"
      ]
     },
     "execution_count": 66,
     "metadata": {},
     "output_type": "execute_result"
    }
   ],
   "source": [
    "listahan=[]\n",
    "for jjj in range(10000):\n",
    "    b=random_braid(slice_knot=False)\n",
    "    listahan.append(len(b[0]))\n",
    "    \n",
    "sum(listahan)/10000"
   ]
  },
  {
   "cell_type": "code",
   "execution_count": 71,
   "metadata": {
    "collapsed": false
   },
   "outputs": [
    {
     "data": {
      "text/plain": [
       "33.4972"
      ]
     },
     "execution_count": 71,
     "metadata": {},
     "output_type": "execute_result"
    }
   ],
   "source": [
    "listahan=[]\n",
    "for jjj in range(10000):\n",
    "    b=random_braid(slice_knot=True,conjugate_length_st_dev=1.35,sgr_st_dev=1)\n",
    "    listahan.append(len(b[0]))\n",
    "    \n",
    "sum(listahan)/10000"
   ]
  },
  {
   "cell_type": "code",
   "execution_count": null,
   "metadata": {
    "collapsed": true
   },
   "outputs": [],
   "source": []
  }
 ],
 "metadata": {
  "colab": {
   "collapsed_sections": [],
   "name": "Random knot generator with known slice genus.ipynb",
   "provenance": []
  },
  "kernelspec": {
   "display_name": "Python 3",
   "language": "python",
   "name": "python3"
  },
  "language_info": {
   "codemirror_mode": {
    "name": "ipython",
    "version": 3
   },
   "file_extension": ".py",
   "mimetype": "text/x-python",
   "name": "python",
   "nbconvert_exporter": "python",
   "pygments_lexer": "ipython3",
   "version": "3.5.1"
  }
 },
 "nbformat": 4,
 "nbformat_minor": 1
}
